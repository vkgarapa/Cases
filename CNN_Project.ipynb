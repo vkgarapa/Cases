{
  "nbformat": 4,
  "nbformat_minor": 0,
  "metadata": {
    "kernelspec": {
      "display_name": "Python 3",
      "language": "python",
      "name": "python3"
    },
    "language_info": {
      "codemirror_mode": {
        "name": "ipython",
        "version": 3
      },
      "file_extension": ".py",
      "mimetype": "text/x-python",
      "name": "python",
      "nbconvert_exporter": "python",
      "pygments_lexer": "ipython3",
      "version": "3.5.4"
    },
    "colab": {
      "name": "02-CNN-Project-Exercise.ipynb",
      "provenance": [],
      "include_colab_link": true
    }
  },
  "cells": [
    {
      "cell_type": "markdown",
      "metadata": {
        "id": "view-in-github",
        "colab_type": "text"
      },
      "source": [
        "<a href=\"https://colab.research.google.com/github/vkgarapa/Cases/blob/master/CNN_Project.ipynb\" target=\"_parent\"><img src=\"https://colab.research.google.com/assets/colab-badge.svg\" alt=\"Open In Colab\"/></a>"
      ]
    },
    {
      "cell_type": "markdown",
      "metadata": {
        "id": "mXnizoJ7g_ad",
        "colab_type": "text"
      },
      "source": [
        "## CNN-Project-Exercise\n",
        "We'll be using the CIFAR-10 dataset, which is very famous dataset for image recognition! \n",
        "\n",
        "The CIFAR-10 dataset consists of 60000 32x32 colour images in 10 classes, with 6000 images per class. There are 50000 training images and 10000 test images. \n",
        "\n",
        "The dataset is divided into five training batches and one test batch, each with 10000 images. The test batch contains exactly 1000 randomly-selected images from each class. The training batches contain the remaining images in random order, but some training batches may contain more images from one class than another. Between them, the training batches contain exactly 5000 images from each class. \n",
        "\n",
        "### Follow the Instructions in Bold, if you get stuck somewhere, view the solutions video! Most of the challenge with this project is actually dealing with the data and its dimensions, not from setting up the CNN itself!"
      ]
    },
    {
      "cell_type": "markdown",
      "metadata": {
        "id": "7FbBWfymg_am",
        "colab_type": "text"
      },
      "source": [
        "## Step 0: Get the Data\n",
        "\n",
        "** *Note: If you have trouble with this just watch the solutions video. This doesn't really have anything to do with the exercise, its more about setting up your data. Please make sure to watch the solutions video before posting any QA questions.* **"
      ]
    },
    {
      "cell_type": "markdown",
      "metadata": {
        "id": "aVqIYTz0g_ar",
        "colab_type": "text"
      },
      "source": [
        "** Download the data for CIFAR from here: https://www.cs.toronto.edu/~kriz/cifar.html **\n",
        "\n",
        "**Specifically the CIFAR-10 python version link: https://www.cs.toronto.edu/~kriz/cifar-10-python.tar.gz **\n",
        "\n",
        "** Remember the directory you save the file in! **"
      ]
    },
    {
      "cell_type": "code",
      "metadata": {
        "id": "D0RCtcIgg_au",
        "colab_type": "code",
        "colab": {}
      },
      "source": [
        "# Put file path as a string here if ur using ur computer's jupyter notebook\n",
        "#CIFAR_DIR = ''"
      ],
      "execution_count": 0,
      "outputs": []
    },
    {
      "cell_type": "markdown",
      "metadata": {
        "id": "y_bkB2DNg_a8",
        "colab_type": "text"
      },
      "source": [
        "The archive contains the files data_batch_1, data_batch_2, ..., data_batch_5, as well as test_batch. Each of these files is a Python \"pickled\" object produced with cPickle. \n",
        "\n",
        "** Load the Data. Use the Code Below to load the data: **"
      ]
    },
    {
      "cell_type": "code",
      "metadata": {
        "id": "_VJjw-Kwg_a_",
        "colab_type": "code",
        "colab": {}
      },
      "source": [
        "def unpickle(file):\n",
        "    import pickle\n",
        "    with open(file, 'rb') as fo:\n",
        "        cifar_dict = pickle.load(fo, encoding='bytes')\n",
        "    return cifar_dict"
      ],
      "execution_count": 0,
      "outputs": []
    },
    {
      "cell_type": "code",
      "metadata": {
        "id": "8n6fnkBdg_bH",
        "colab_type": "code",
        "colab": {}
      },
      "source": [
        "dirs = ['batches.meta','data_batch_1','data_batch_2','data_batch_3','data_batch_4','data_batch_5','test_batch']"
      ],
      "execution_count": 0,
      "outputs": []
    },
    {
      "cell_type": "code",
      "metadata": {
        "id": "8-YFdrI9g_bV",
        "colab_type": "code",
        "colab": {}
      },
      "source": [
        "all_data = [0,1,2,3,4,5,6]"
      ],
      "execution_count": 0,
      "outputs": []
    },
    {
      "cell_type": "code",
      "metadata": {
        "id": "lNhm1Mfng_bd",
        "colab_type": "code",
        "colab": {}
      },
      "source": [
        "for i,direc in zip(all_data,dirs):\n",
        "    all_data[i] = unpickle(direc) \n",
        "# should add as (CIFAR_DIR + direc) parameter for unpickle function when using the computer notebook."
      ],
      "execution_count": 0,
      "outputs": []
    },
    {
      "cell_type": "code",
      "metadata": {
        "id": "D-oNvjNrg_bk",
        "colab_type": "code",
        "colab": {}
      },
      "source": [
        "batch_meta = all_data[0]\n",
        "data_batch1 = all_data[1]\n",
        "data_batch2 = all_data[2]\n",
        "data_batch3 = all_data[3]\n",
        "data_batch4 = all_data[4]\n",
        "data_batch5 = all_data[5]\n",
        "test_batch = all_data[6]"
      ],
      "execution_count": 0,
      "outputs": []
    },
    {
      "cell_type": "code",
      "metadata": {
        "id": "qqAw1v6vg_br",
        "colab_type": "code",
        "colab": {
          "base_uri": "https://localhost:8080/",
          "height": 235
        },
        "outputId": "a7b8822a-89e1-4d93-ca49-cb0b2a6254bf"
      },
      "source": [
        "batch_meta"
      ],
      "execution_count": 6,
      "outputs": [
        {
          "output_type": "execute_result",
          "data": {
            "text/plain": [
              "{b'label_names': [b'airplane',\n",
              "  b'automobile',\n",
              "  b'bird',\n",
              "  b'cat',\n",
              "  b'deer',\n",
              "  b'dog',\n",
              "  b'frog',\n",
              "  b'horse',\n",
              "  b'ship',\n",
              "  b'truck'],\n",
              " b'num_cases_per_batch': 10000,\n",
              " b'num_vis': 3072}"
            ]
          },
          "metadata": {
            "tags": []
          },
          "execution_count": 6
        }
      ]
    },
    {
      "cell_type": "markdown",
      "metadata": {
        "id": "oeC0FeY2g_b0",
        "colab_type": "text"
      },
      "source": [
        "** Why the 'b's in front of the string? **\n",
        "Bytes literals are always prefixed with 'b' or 'B'; they produce an instance of the bytes type instead of the str type. They may only contain ASCII characters; bytes with a numeric value of 128 or greater must be expressed with escapes.\n",
        "\n",
        "https://stackoverflow.com/questions/6269765/what-does-the-b-character-do-in-front-of-a-string-literal"
      ]
    },
    {
      "cell_type": "code",
      "metadata": {
        "id": "9S1Vd1Oxg_b2",
        "colab_type": "code",
        "colab": {
          "base_uri": "https://localhost:8080/",
          "height": 35
        },
        "outputId": "3fc4f38d-ff13-4413-bee0-864236705b5a"
      },
      "source": [
        "data_batch1.keys()"
      ],
      "execution_count": 7,
      "outputs": [
        {
          "output_type": "execute_result",
          "data": {
            "text/plain": [
              "dict_keys([b'batch_label', b'labels', b'data', b'filenames'])"
            ]
          },
          "metadata": {
            "tags": []
          },
          "execution_count": 7
        }
      ]
    },
    {
      "cell_type": "markdown",
      "metadata": {
        "id": "D2EejUIEg_b9",
        "colab_type": "text"
      },
      "source": [
        "Loaded in this way, each of the batch files contains a dictionary with the following elements:\n",
        "* data -- a 10000x3072 numpy array of uint8s. Each row of the array stores a 32x32 colour image. The first 1024 entries contain the red channel values, the next 1024 the green, and the final 1024 the blue. The image is stored in row-major order, so that the first 32 entries of the array are the red channel values of the first row of the image.\n",
        "* labels -- a list of 10000 numbers in the range 0-9. The number at index i indicates the label of the ith image in the array data.\n",
        "\n",
        "The dataset contains another file, called batches.meta. It too contains a Python dictionary object. It has the following entries:\n",
        "\n",
        "* label_names -- a 10-element list which gives meaningful names to the numeric labels in the labels array described above. For example, label_names[0] == \"airplane\", label_names[1] == \"automobile\", etc."
      ]
    },
    {
      "cell_type": "markdown",
      "metadata": {
        "id": "AP3okeF0g_b_",
        "colab_type": "text"
      },
      "source": [
        "### Display a single image using matplotlib.\n",
        "\n",
        "** Grab a single image from data_batch1 and display it with plt.imshow(). You'll need to reshape and transpose the numpy array inside the X = data_batch[b'data'] dictionary entry.**\n",
        "\n",
        "** It should end up looking like this: **\n",
        "\n",
        "    # Array of all images reshaped and formatted for viewing\n",
        "    X = X.reshape(10000, 3, 32, 32).transpose(0,2,3,1).astype(\"uint8\")"
      ]
    },
    {
      "cell_type": "code",
      "metadata": {
        "id": "6PyfFa51g_cE",
        "colab_type": "code",
        "colab": {}
      },
      "source": [
        "import matplotlib.pyplot as plt\n",
        "%matplotlib inline\n",
        "import numpy as np"
      ],
      "execution_count": 0,
      "outputs": []
    },
    {
      "cell_type": "code",
      "metadata": {
        "id": "tQMkv3lsg_cL",
        "colab_type": "code",
        "colab": {}
      },
      "source": [
        "# Put the code here that transforms the X array!\n",
        "X = data_batch1[b'data']"
      ],
      "execution_count": 0,
      "outputs": []
    },
    {
      "cell_type": "code",
      "metadata": {
        "id": "wvZhTuLIiRye",
        "colab_type": "code",
        "colab": {
          "base_uri": "https://localhost:8080/",
          "height": 35
        },
        "outputId": "477c1fb2-21f9-4021-eb27-d99d16fd72ed"
      },
      "source": [
        "X.shape\n",
        "#3072 = 32*32*3"
      ],
      "execution_count": 10,
      "outputs": [
        {
          "output_type": "execute_result",
          "data": {
            "text/plain": [
              "(10000, 3072)"
            ]
          },
          "metadata": {
            "tags": []
          },
          "execution_count": 10
        }
      ]
    },
    {
      "cell_type": "code",
      "metadata": {
        "id": "7D0QfiRfiAsM",
        "colab_type": "code",
        "colab": {}
      },
      "source": [
        "X = X.reshape(10000, 3, 32, 32).transpose(0,2,3,1).astype(\"uint8\")\n",
        "# on the transpose function the number indicates the indexes of the "
      ],
      "execution_count": 0,
      "outputs": []
    },
    {
      "cell_type": "code",
      "metadata": {
        "id": "atzXx83bg_cP",
        "colab_type": "code",
        "colab": {
          "base_uri": "https://localhost:8080/",
          "height": 284
        },
        "outputId": "5ea83cb4-3b35-4ae4-c0f5-c4120eece458"
      },
      "source": [
        "plt.imshow(X[0])"
      ],
      "execution_count": 12,
      "outputs": [
        {
          "output_type": "execute_result",
          "data": {
            "text/plain": [
              "<matplotlib.image.AxesImage at 0x7f28fdd54b00>"
            ]
          },
          "metadata": {
            "tags": []
          },
          "execution_count": 12
        },
        {
          "output_type": "display_data",
          "data": {
            "image/png": "[encoded data removed]",
            "text/plain": [
              "<Figure size 432x288 with 1 Axes>"
            ]
          },
          "metadata": {
            "tags": []
          }
        }
      ]
    },
    {
      "cell_type": "code",
      "metadata": {
        "id": "C3FldG97g_cV",
        "colab_type": "code",
        "colab": {
          "base_uri": "https://localhost:8080/",
          "height": 284
        },
        "outputId": "93dd8aa5-e507-44c4-e4ee-7a3f24c7b0fc"
      },
      "source": [
        "plt.imshow(X[1])"
      ],
      "execution_count": 13,
      "outputs": [
        {
          "output_type": "execute_result",
          "data": {
            "text/plain": [
              "<matplotlib.image.AxesImage at 0x7f28fd8a3d30>"
            ]
          },
          "metadata": {
            "tags": []
          },
          "execution_count": 13
        },
        {
          "output_type": "display_data",
          "data": {
            "image/png": "[encoded data removed]",
            "text/plain": [
              "<Figure size 432x288 with 1 Axes>"
            ]
          },
          "metadata": {
            "tags": []
          }
        }
      ]
    },
    {
      "cell_type": "code",
      "metadata": {
        "id": "b_f3-Q14g_cb",
        "colab_type": "code",
        "colab": {
          "base_uri": "https://localhost:8080/",
          "height": 284
        },
        "outputId": "0bcd442b-6ffc-480c-b6c7-21b3d430e65e"
      },
      "source": [
        "plt.imshow(X[4])"
      ],
      "execution_count": 14,
      "outputs": [
        {
          "output_type": "execute_result",
          "data": {
            "text/plain": [
              "<matplotlib.image.AxesImage at 0x7f28fd80dd30>"
            ]
          },
          "metadata": {
            "tags": []
          },
          "execution_count": 14
        },
        {
          "output_type": "display_data",
          "data": {
            "image/png": "[encoded data removed]",
            "text/plain": [
              "<Figure size 432x288 with 1 Axes>"
            ]
          },
          "metadata": {
            "tags": []
          }
        }
      ]
    },
    {
      "cell_type": "markdown",
      "metadata": {
        "id": "DtRM-pT6g_ch",
        "colab_type": "text"
      },
      "source": [
        "# Helper Functions for Dealing With Data.\n",
        "\n",
        "** Use the provided code below to help with dealing with grabbing the next batch once you've gotten ready to create the Graph Session. Can you break down how it works? **"
      ]
    },
    {
      "cell_type": "code",
      "metadata": {
        "id": "pAQ-FjAfg_ci",
        "colab_type": "code",
        "colab": {}
      },
      "source": [
        "def one_hot_encode(vec, vals=10):\n",
        "    '''\n",
        "    For use to one-hot encode the 10- possible labels\n",
        "    '''\n",
        "    n = len(vec)\n",
        "    out = np.zeros((n, vals))\n",
        "    out[range(n), vec] = 1\n",
        "    return out"
      ],
      "execution_count": 0,
      "outputs": []
    },
    {
      "cell_type": "code",
      "metadata": {
        "id": "y92qSYdwg_co",
        "colab_type": "code",
        "colab": {}
      },
      "source": [
        "class CifarHelper():\n",
        "    \n",
        "    def __init__(self):\n",
        "        self.i = 0\n",
        "        \n",
        "        # Grabs a list of all the data batches for training\n",
        "        self.all_train_batches = [data_batch1,data_batch2,data_batch3,data_batch4,data_batch5]\n",
        "        # Grabs a list of all the test batches (really just one batch)\n",
        "        self.test_batch = [test_batch]\n",
        "        \n",
        "        # Intialize some empty variables for later on\n",
        "        self.training_images = None\n",
        "        self.training_labels = None\n",
        "        \n",
        "        self.test_images = None\n",
        "        self.test_labels = None\n",
        "    \n",
        "    def set_up_images(self):\n",
        "        \n",
        "        print(\"Setting Up Training Images and Labels\")\n",
        "        \n",
        "        # Vertically stacks the training images\n",
        "        self.training_images = np.vstack([d[b\"data\"] for d in self.all_train_batches])\n",
        "        train_len = len(self.training_images)\n",
        "        \n",
        "        # Reshapes and normalizes training images\n",
        "        self.training_images = self.training_images.reshape(train_len,3,32,32).transpose(0,2,3,1)/255\n",
        "        # One hot Encodes the training labels (e.g. [0,0,0,1,0,0,0,0,0,0])\n",
        "        self.training_labels = one_hot_encode(np.hstack([d[b\"labels\"] for d in self.all_train_batches]), 10)\n",
        "        \n",
        "        print(\"Setting Up Test Images and Labels\")\n",
        "        \n",
        "        # Vertically stacks the test images\n",
        "        self.test_images = np.vstack([d[b\"data\"] for d in self.test_batch])\n",
        "        test_len = len(self.test_images)\n",
        "        \n",
        "        # Reshapes and normalizes test images\n",
        "        self.test_images = self.test_images.reshape(test_len,3,32,32).transpose(0,2,3,1)/255\n",
        "        # One hot Encodes the test labels (e.g. [0,0,0,1,0,0,0,0,0,0])\n",
        "        self.test_labels = one_hot_encode(np.hstack([d[b\"labels\"] for d in self.test_batch]), 10)\n",
        "\n",
        "        \n",
        "    def next_batch(self, batch_size):\n",
        "        # Note that the 100 dimension in the reshape call is set by an assumed batch size of 100\n",
        "        x = self.training_images[self.i:self.i+batch_size].reshape(100,32,32,3)\n",
        "        y = self.training_labels[self.i:self.i+batch_size]\n",
        "        self.i = (self.i + batch_size) % len(self.training_images)\n",
        "        return x, y"
      ],
      "execution_count": 0,
      "outputs": []
    },
    {
      "cell_type": "markdown",
      "metadata": {
        "id": "7GYVOuYlg_cu",
        "colab_type": "text"
      },
      "source": [
        "** How to use the above code: **"
      ]
    },
    {
      "cell_type": "code",
      "metadata": {
        "id": "9M6mh83xg_cv",
        "colab_type": "code",
        "colab": {
          "base_uri": "https://localhost:8080/",
          "height": 53
        },
        "outputId": "644944b5-e50f-4d30-8ed7-7f46afd23fd5"
      },
      "source": [
        "# Before Your tf.Session run these two lines\n",
        "ch = CifarHelper()\n",
        "ch.set_up_images()\n",
        "\n",
        "# During your session to grab the next batch use this line\n",
        "# (Just like we did for mnist.train.next_batch)\n",
        "#batch = ch.next_batch(100)"
      ],
      "execution_count": 36,
      "outputs": [
        {
          "output_type": "stream",
          "text": [
            "Setting Up Training Images and Labels\n",
            "Setting Up Test Images and Labels\n"
          ],
          "name": "stdout"
        }
      ]
    },
    {
      "cell_type": "markdown",
      "metadata": {
        "id": "ynbubzuog_c0",
        "colab_type": "text"
      },
      "source": [
        "## Creating the Model\n",
        "\n",
        "** Import tensorflow **"
      ]
    },
    {
      "cell_type": "code",
      "metadata": {
        "id": "XYxdQkhBg_c1",
        "colab_type": "code",
        "colab": {}
      },
      "source": [
        "import tensorflow as tf"
      ],
      "execution_count": 0,
      "outputs": []
    },
    {
      "cell_type": "markdown",
      "metadata": {
        "id": "n7FdW5OKg_c6",
        "colab_type": "text"
      },
      "source": [
        "** Create 2 placeholders, x and y_true. Their shapes should be: **\n",
        "\n",
        "* x shape = [None,32,32,3]\n",
        "* y_true shape = [None,10]\n"
      ]
    },
    {
      "cell_type": "code",
      "metadata": {
        "id": "kO2Iy9msg_c8",
        "colab_type": "code",
        "colab": {}
      },
      "source": [
        "x = tf.placeholder(tf.float32, shape = [None, 32,32,3])\n",
        "y_true = tf.placeholder(tf.float32, shape = [None,10])"
      ],
      "execution_count": 0,
      "outputs": []
    },
    {
      "cell_type": "markdown",
      "metadata": {
        "id": "Rg9b4VvVg_dA",
        "colab_type": "text"
      },
      "source": [
        "** Create one more placeholder called hold_prob. No need for shape here. This placeholder will just hold a single probability for the dropout. **"
      ]
    },
    {
      "cell_type": "code",
      "metadata": {
        "id": "jhWb3mR8g_dB",
        "colab_type": "code",
        "colab": {}
      },
      "source": [
        "hold_prob = tf.placeholder(tf.float32)"
      ],
      "execution_count": 0,
      "outputs": []
    },
    {
      "cell_type": "markdown",
      "metadata": {
        "id": "crglzEH4g_dF",
        "colab_type": "text"
      },
      "source": [
        "### Helper Functions\n",
        "\n",
        "** Grab the helper functions from MNIST with CNN (or recreate them here yourself for a hard challenge!). You'll need: **\n",
        "\n",
        "* init_weights\n",
        "* init_bias\n",
        "* conv2d\n",
        "* max_pool_2by2\n",
        "* convolutional_layer\n",
        "* normal_full_layer"
      ]
    },
    {
      "cell_type": "code",
      "metadata": {
        "id": "7aMAgmnpg_dH",
        "colab_type": "code",
        "colab": {}
      },
      "source": [
        "def init_weights(shape):\n",
        "  init_random_dist = tf.truncated_normal(shape, stddev = 0.1)\n",
        "  return tf.Variable(init_random_dist)\n",
        "\n",
        "def init_bias(shape):\n",
        "  init_bias_vals = tf.constant(0.1,shape = shape)\n",
        "  return tf.Variable(init_bias_vals)\n",
        "\n",
        "def conv2d(x,W):\n",
        "  return tf.nn.conv2d(x,W, strides=[1,1,1,1], padding = 'SAME')\n",
        "\n",
        "def max_pool_2by2(x):\n",
        "  return tf.nn.max_pool(x, ksize=[1,2,2,1],\n",
        "                        strides = [1,2,2,1], padding = 'SAME')\n",
        "\n",
        "def convolutional_layer(input_x, shape):\n",
        "  W = init_weights(shape)\n",
        "  b = init_bias([shape[3]])\n",
        "  return tf.nn.relu(conv2d(input_x,W)+b)\n",
        "\n",
        "def normal_full_layer(input_layer, size):\n",
        "  input_size = int(input_layer.get_shape()[1])\n",
        "  W = init_weights([input_size, size])\n",
        "  b = init_bias([size])\n",
        "  return tf.matmul(input_layer, W)+b"
      ],
      "execution_count": 0,
      "outputs": []
    },
    {
      "cell_type": "markdown",
      "metadata": {
        "id": "XHl1pQS0g_dK",
        "colab_type": "text"
      },
      "source": [
        "### Create the Layers\n",
        "\n",
        "** Create a convolutional layer and a pooling layer as we did for MNIST. **\n",
        "** Its up to you what the 2d size of the convolution should be, but the last two digits need to be 3 and 32 because of the 3 color channels and 32 pixels. So for example you could use:**\n",
        "\n",
        "        convo_1 = convolutional_layer(x,shape=[4,4,3,32])"
      ]
    },
    {
      "cell_type": "code",
      "metadata": {
        "id": "ZRmvo0hlg_dK",
        "colab_type": "code",
        "colab": {}
      },
      "source": [
        "convo_1 = convolutional_layer(x,shape=[4,4,3,32])\n",
        "convo_1_pooling = max_pool_2by2(convo_1)"
      ],
      "execution_count": 0,
      "outputs": []
    },
    {
      "cell_type": "markdown",
      "metadata": {
        "id": "zmHLCj6lg_dP",
        "colab_type": "text"
      },
      "source": [
        "** Create the next convolutional and pooling layers.  The last two dimensions of the convo_2 layer should be 32,64 **"
      ]
    },
    {
      "cell_type": "code",
      "metadata": {
        "id": "9rgUUYf4g_dR",
        "colab_type": "code",
        "colab": {}
      },
      "source": [
        "convo_2 = convolutional_layer(convo_1_pooling, shape = [4,4,32,64])\n",
        "convo_2_pooling = max_pool_2by2(convo_2)"
      ],
      "execution_count": 0,
      "outputs": []
    },
    {
      "cell_type": "markdown",
      "metadata": {
        "id": "30QZkjGvg_dU",
        "colab_type": "text"
      },
      "source": [
        "** Now create a flattened layer by reshaping the pooling layer into [-1,8 \\* 8 \\* 64] or [-1,4096] **"
      ]
    },
    {
      "cell_type": "code",
      "metadata": {
        "id": "AmJhp0E-g_dV",
        "colab_type": "code",
        "colab": {},
        "outputId": "5560a730-1607-4a64-c4fb-662beba0f7ba"
      },
      "source": [
        "8*8*64"
      ],
      "execution_count": 0,
      "outputs": [
        {
          "output_type": "execute_result",
          "data": {
            "text/plain": [
              "4096"
            ]
          },
          "metadata": {
            "tags": []
          },
          "execution_count": 26
        }
      ]
    },
    {
      "cell_type": "code",
      "metadata": {
        "id": "7uJ4R6Btg_db",
        "colab_type": "code",
        "colab": {}
      },
      "source": [
        "convo_2_flat = tf.reshape(convo_2_pooling, [-1,8*8*64])"
      ],
      "execution_count": 0,
      "outputs": []
    },
    {
      "cell_type": "markdown",
      "metadata": {
        "id": "KUA7q5JBg_df",
        "colab_type": "text"
      },
      "source": [
        "** Create a new full layer using the normal_full_layer function and passing in your flattend convolutional 2 layer with size=1024. (You could also choose to reduce this to something like 512)**"
      ]
    },
    {
      "cell_type": "code",
      "metadata": {
        "id": "Z03H2cFzg_dh",
        "colab_type": "code",
        "colab": {}
      },
      "source": [
        "full_layer_one = tf.nn.relu(normal_full_layer(convo_2_flat,1024))"
      ],
      "execution_count": 0,
      "outputs": []
    },
    {
      "cell_type": "markdown",
      "metadata": {
        "id": "goOg1G4hg_dm",
        "colab_type": "text"
      },
      "source": [
        "** Now create the dropout layer with tf.nn.dropout, remember to pass in your hold_prob placeholder. **"
      ]
    },
    {
      "cell_type": "code",
      "metadata": {
        "id": "gevA3YIfg_dn",
        "colab_type": "code",
        "colab": {
          "base_uri": "https://localhost:8080/",
          "height": 92
        },
        "outputId": "ff00cfe3-5131-4430-e550-6cf29030612b"
      },
      "source": [
        "full_one_dropout = tf.nn.dropout(full_layer_one, keep_prob = hold_prob)"
      ],
      "execution_count": 31,
      "outputs": [
        {
          "output_type": "stream",
          "text": [
            "WARNING:tensorflow:From <ipython-input-31-e2f13c473273>:1: calling dropout (from tensorflow.python.ops.nn_ops) with keep_prob is deprecated and will be removed in a future version.\n",
            "Instructions for updating:\n",
            "Please use `rate` instead of `keep_prob`. Rate should be set to `rate = 1 - keep_prob`.\n"
          ],
          "name": "stdout"
        }
      ]
    },
    {
      "cell_type": "markdown",
      "metadata": {
        "id": "o_YO2yTTg_dr",
        "colab_type": "text"
      },
      "source": [
        "** Finally set the output to y_pred by passing in the dropout layer into the normal_full_layer function. The size should be 10 because of the 10 possible labels**"
      ]
    },
    {
      "cell_type": "code",
      "metadata": {
        "id": "pwOfMvuLg_dt",
        "colab_type": "code",
        "colab": {}
      },
      "source": [
        "y_pred = normal_full_layer(full_one_dropout, 10)"
      ],
      "execution_count": 0,
      "outputs": []
    },
    {
      "cell_type": "markdown",
      "metadata": {
        "id": "v2YDHvFwg_dy",
        "colab_type": "text"
      },
      "source": [
        "### Loss Function\n",
        "\n",
        "** Create a cross_entropy loss function **"
      ]
    },
    {
      "cell_type": "code",
      "metadata": {
        "id": "geTLJOWYg_d0",
        "colab_type": "code",
        "colab": {
          "base_uri": "https://localhost:8080/",
          "height": 182
        },
        "outputId": "54d7e1dc-6192-469d-a08b-f3a07cb5bc86"
      },
      "source": [
        "cross_entropy = tf.reduce_mean(tf.nn.softmax_cross_entropy_with_logits(labels=y_true,logits=y_pred))"
      ],
      "execution_count": 33,
      "outputs": [
        {
          "output_type": "stream",
          "text": [
            "WARNING:tensorflow:From <ipython-input-33-e0c07892321c>:1: softmax_cross_entropy_with_logits (from tensorflow.python.ops.nn_ops) is deprecated and will be removed in a future version.\n",
            "Instructions for updating:\n",
            "\n",
            "Future major versions of TensorFlow will allow gradients to flow\n",
            "into the labels input on backprop by default.\n",
            "\n",
            "See `tf.nn.softmax_cross_entropy_with_logits_v2`.\n",
            "\n"
          ],
          "name": "stdout"
        }
      ]
    },
    {
      "cell_type": "markdown",
      "metadata": {
        "id": "ptxg4RkFg_d4",
        "colab_type": "text"
      },
      "source": [
        "### Optimizer\n",
        "** Create the optimizer using an Adam Optimizer. **"
      ]
    },
    {
      "cell_type": "code",
      "metadata": {
        "id": "Bt3_k05hg_d8",
        "colab_type": "code",
        "colab": {}
      },
      "source": [
        "optimizer = tf.train.AdamOptimizer(learning_rate = 0.001)\n",
        "train = optimizer.minimize(cross_entropy)"
      ],
      "execution_count": 0,
      "outputs": []
    },
    {
      "cell_type": "markdown",
      "metadata": {
        "id": "TWbush6Rg_eB",
        "colab_type": "text"
      },
      "source": [
        "** Create a variable to intialize all the global tf variables. **"
      ]
    },
    {
      "cell_type": "code",
      "metadata": {
        "id": "WIpCljfxg_eC",
        "colab_type": "code",
        "colab": {}
      },
      "source": [
        "init = tf.global_variables_initializer()"
      ],
      "execution_count": 0,
      "outputs": []
    },
    {
      "cell_type": "markdown",
      "metadata": {
        "id": "oo0YEpt7g_eH",
        "colab_type": "text"
      },
      "source": [
        "## Graph Session\n",
        "\n",
        "** Perform the training and test print outs in a Tf session and run your model! **"
      ]
    },
    {
      "cell_type": "code",
      "metadata": {
        "id": "qDD7JHSxg_eI",
        "colab_type": "code",
        "colab": {
          "base_uri": "https://localhost:8080/",
          "height": 1000
        },
        "outputId": "c852193e-ae1e-4044-d1b4-98d410105000"
      },
      "source": [
        "with tf.Session() as sess:\n",
        "\n",
        "  sess.run(init)\n",
        "\n",
        "  for i in range(5000):\n",
        "    batch = ch.next_batch(100)\n",
        "\n",
        "    sess.run(train, feed_dict = {x:batch[0], y_true:batch[1],hold_prob:0.5})\n",
        "\n",
        "    if i%100 ==0:\n",
        "\n",
        "      print(\"STEP: {}\".format(i))\n",
        "\n",
        "      matches = tf.equal(tf.argmax(y_pred,1), tf.argmax(y_true,1))\n",
        "\n",
        "      acc = tf.reduce_mean(tf.cast(matches, tf.float32))\n",
        "\n",
        "      print(sess.run(acc, feed_dict = {x:ch.test_images, y_true:ch.test_labels, hold_prob:1.0}))\n",
        "      print('\\n')\n",
        "\n"
      ],
      "execution_count": 37,
      "outputs": [
        {
          "output_type": "stream",
          "text": [
            "STEP: 0\n",
            "0.1136\n",
            "\n",
            "\n",
            "STEP: 100\n",
            "0.4022\n",
            "\n",
            "\n",
            "STEP: 200\n",
            "0.4609\n",
            "\n",
            "\n",
            "STEP: 300\n",
            "0.5072\n",
            "\n",
            "\n",
            "STEP: 400\n",
            "0.5229\n",
            "\n",
            "\n",
            "STEP: 500\n",
            "0.5692\n",
            "\n",
            "\n",
            "STEP: 600\n",
            "0.5654\n",
            "\n",
            "\n",
            "STEP: 700\n",
            "0.5682\n",
            "\n",
            "\n",
            "STEP: 800\n",
            "0.5747\n",
            "\n",
            "\n",
            "STEP: 900\n",
            "0.5987\n",
            "\n",
            "\n",
            "STEP: 1000\n",
            "0.6138\n",
            "\n",
            "\n",
            "STEP: 1100\n",
            "0.6252\n",
            "\n",
            "\n",
            "STEP: 1200\n",
            "0.6217\n",
            "\n",
            "\n",
            "STEP: 1300\n",
            "0.6273\n",
            "\n",
            "\n",
            "STEP: 1400\n",
            "0.6392\n",
            "\n",
            "\n",
            "STEP: 1500\n",
            "0.641\n",
            "\n",
            "\n",
            "STEP: 1600\n",
            "0.6426\n",
            "\n",
            "\n",
            "STEP: 1700\n",
            "0.6668\n",
            "\n",
            "\n",
            "STEP: 1800\n",
            "0.6503\n",
            "\n",
            "\n",
            "STEP: 1900\n",
            "0.6544\n",
            "\n",
            "\n",
            "STEP: 2000\n",
            "0.6548\n",
            "\n",
            "\n",
            "STEP: 2100\n",
            "0.666\n",
            "\n",
            "\n",
            "STEP: 2200\n",
            "0.6747\n",
            "\n",
            "\n",
            "STEP: 2300\n",
            "0.6538\n",
            "\n",
            "\n",
            "STEP: 2400\n",
            "0.6738\n",
            "\n",
            "\n",
            "STEP: 2500\n",
            "0.6674\n",
            "\n",
            "\n",
            "STEP: 2600\n",
            "0.6748\n",
            "\n",
            "\n",
            "STEP: 2700\n",
            "0.673\n",
            "\n",
            "\n",
            "STEP: 2800\n",
            "0.6904\n",
            "\n",
            "\n",
            "STEP: 2900\n",
            "0.6602\n",
            "\n",
            "\n",
            "STEP: 3000\n",
            "0.6837\n",
            "\n",
            "\n",
            "STEP: 3100\n",
            "0.6714\n",
            "\n",
            "\n",
            "STEP: 3200\n",
            "0.6891\n",
            "\n",
            "\n",
            "STEP: 3300\n",
            "0.6876\n",
            "\n",
            "\n",
            "STEP: 3400\n",
            "0.683\n",
            "\n",
            "\n",
            "STEP: 3500\n",
            "0.6877\n",
            "\n",
            "\n",
            "STEP: 3600\n",
            "0.6767\n",
            "\n",
            "\n",
            "STEP: 3700\n",
            "0.6852\n",
            "\n",
            "\n",
            "STEP: 3800\n",
            "0.6844\n",
            "\n",
            "\n",
            "STEP: 3900\n",
            "0.6804\n",
            "\n",
            "\n",
            "STEP: 4000\n",
            "0.6903\n",
            "\n",
            "\n",
            "STEP: 4100\n",
            "0.6794\n",
            "\n",
            "\n",
            "STEP: 4200\n",
            "0.6764\n",
            "\n",
            "\n",
            "STEP: 4300\n",
            "0.6709\n",
            "\n",
            "\n",
            "STEP: 4400\n",
            "0.6884\n",
            "\n",
            "\n",
            "STEP: 4500\n",
            "0.6895\n",
            "\n",
            "\n",
            "STEP: 4600\n",
            "0.684\n",
            "\n",
            "\n",
            "STEP: 4700\n",
            "0.6939\n",
            "\n",
            "\n",
            "STEP: 4800\n",
            "0.6856\n",
            "\n",
            "\n",
            "STEP: 4900\n",
            "0.6777\n",
            "\n",
            "\n"
          ],
          "name": "stdout"
        }
      ]
    },
    {
      "cell_type": "code",
      "metadata": {
        "id": "xPZ4SNNoq0Pk",
        "colab_type": "code",
        "colab": {}
      },
      "source": [
        ""
      ],
      "execution_count": 0,
      "outputs": []
    }
  ]
}
{
  "nbformat": 4,
  "nbformat_minor": 0,
  "metadata": {
    "colab": {
      "name": "MNIST-CNN.ipynb",
      "provenance": [],
      "include_colab_link": true
    },
    "kernelspec": {
      "name": "python3",
      "display_name": "Python 3"
    },
    "accelerator": "TPU"
  },
  "cells": [
    {
      "cell_type": "markdown",
      "metadata": {
        "id": "view-in-github",
        "colab_type": "text"
      },
      "source": [
        "<a href=\"https://colab.research.google.com/github/vkgarapa/Cases/blob/master/MNIST_CNN.ipynb\" target=\"_parent\"><img src=\"https://colab.research.google.com/assets/colab-badge.svg\" alt=\"Open In Colab\"/></a>"
      ]
    },
    {
      "cell_type": "markdown",
      "metadata": {
        "id": "eNPg2m7JIwGt",
        "colab_type": "text"
      },
      "source": [
        ""
      ]
    },
    {
      "cell_type": "code",
      "metadata": {
        "id": "Wb7Ot4ATHY1s",
        "colab_type": "code",
        "colab": {}
      },
      "source": [
        "import numpy as np\n",
        "import matplotlib.pyplot as plt\n",
        "%matplotlib inline\n",
        "import tensorflow as tf\n",
        "import warnings\n",
        "warnings.simplefilter(\"ignore\")"
      ],
      "execution_count": 0,
      "outputs": []
    },
    {
      "cell_type": "code",
      "metadata": {
        "id": "ThWlI3ASI-bN",
        "colab_type": "code",
        "colab": {}
      },
      "source": [
        "from tensorflow.examples.tutorials.mnist import input_data"
      ],
      "execution_count": 0,
      "outputs": []
    },
    {
      "cell_type": "code",
      "metadata": {
        "id": "PfxZLZTCJERB",
        "colab_type": "code",
        "colab": {
          "base_uri": "https://localhost:8080/",
          "height": 437
        },
        "outputId": "546ee6ad-5d76-416c-c57b-51415f17aab7"
      },
      "source": [
        "mnist = input_data.read_data_sets(\"MNIST_data/\", one_hot = True)"
      ],
      "execution_count": 3,
      "outputs": [
        {
          "output_type": "stream",
          "text": [
            "WARNING:tensorflow:From <ipython-input-3-1a516c502833>:1: read_data_sets (from tensorflow.contrib.learn.python.learn.datasets.mnist) is deprecated and will be removed in a future version.\n",
            "Instructions for updating:\n",
            "Please use alternatives such as official/mnist/dataset.py from tensorflow/models.\n",
            "WARNING:tensorflow:From /usr/local/lib/python3.6/dist-packages/tensorflow_core/contrib/learn/python/learn/datasets/mnist.py:260: maybe_download (from tensorflow.contrib.learn.python.learn.datasets.base) is deprecated and will be removed in a future version.\n",
            "Instructions for updating:\n",
            "Please write your own downloading logic.\n",
            "WARNING:tensorflow:From /usr/local/lib/python3.6/dist-packages/tensorflow_core/contrib/learn/python/learn/datasets/mnist.py:262: extract_images (from tensorflow.contrib.learn.python.learn.datasets.mnist) is deprecated and will be removed in a future version.\n",
            "Instructions for updating:\n",
            "Please use tf.data to implement this functionality.\n",
            "Extracting MNIST_data/train-images-idx3-ubyte.gz\n",
            "WARNING:tensorflow:From /usr/local/lib/python3.6/dist-packages/tensorflow_core/contrib/learn/python/learn/datasets/mnist.py:267: extract_labels (from tensorflow.contrib.learn.python.learn.datasets.mnist) is deprecated and will be removed in a future version.\n",
            "Instructions for updating:\n",
            "Please use tf.data to implement this functionality.\n",
            "Extracting MNIST_data/train-labels-idx1-ubyte.gz\n",
            "WARNING:tensorflow:From /usr/local/lib/python3.6/dist-packages/tensorflow_core/contrib/learn/python/learn/datasets/mnist.py:110: dense_to_one_hot (from tensorflow.contrib.learn.python.learn.datasets.mnist) is deprecated and will be removed in a future version.\n",
            "Instructions for updating:\n",
            "Please use tf.one_hot on tensors.\n",
            "Extracting MNIST_data/t10k-images-idx3-ubyte.gz\n",
            "Extracting MNIST_data/t10k-labels-idx1-ubyte.gz\n",
            "WARNING:tensorflow:From /usr/local/lib/python3.6/dist-packages/tensorflow_core/contrib/learn/python/learn/datasets/mnist.py:290: DataSet.__init__ (from tensorflow.contrib.learn.python.learn.datasets.mnist) is deprecated and will be removed in a future version.\n",
            "Instructions for updating:\n",
            "Please use alternatives such as official/mnist/dataset.py from tensorflow/models.\n"
          ],
          "name": "stdout"
        }
      ]
    },
    {
      "cell_type": "code",
      "metadata": {
        "id": "tj_hvPDbJt34",
        "colab_type": "code",
        "colab": {}
      },
      "source": [
        "# Helper\n",
        "\n",
        "# INIT weights"
      ],
      "execution_count": 0,
      "outputs": []
    },
    {
      "cell_type": "code",
      "metadata": {
        "id": "AB2g-D-HJt8m",
        "colab_type": "code",
        "colab": {}
      },
      "source": [
        "def init_weights(shape):\n",
        "  init_random_dist = tf.truncated_normal(shape, stddev=0.1)\n",
        "  return tf.Variable(init_random_dist)"
      ],
      "execution_count": 0,
      "outputs": []
    },
    {
      "cell_type": "code",
      "metadata": {
        "id": "Wosyprx7Jt2B",
        "colab_type": "code",
        "colab": {}
      },
      "source": [
        "#INIT BIAS"
      ],
      "execution_count": 0,
      "outputs": []
    },
    {
      "cell_type": "code",
      "metadata": {
        "id": "mllwtHMZKJWf",
        "colab_type": "code",
        "colab": {}
      },
      "source": [
        "def init_bias(shape):\n",
        "  init_bias_vals = tf.constant(0.1, shape=shape)\n",
        "  return tf.Variable(init_bias_vals)"
      ],
      "execution_count": 0,
      "outputs": []
    },
    {
      "cell_type": "code",
      "metadata": {
        "id": "1teAVfmpJO2Q",
        "colab_type": "code",
        "colab": {}
      },
      "source": [
        "# Conv2D\n",
        "\n",
        "def conv2d(x,W):\n",
        "  # x--> input tensor, [batch,H,W,Channels]\n",
        "  # W--> kernel, [filter H, filter W, Channels IN, Channels OUT]\n",
        "\n",
        "  return tf.nn.conv2d(x,W,strides=[1,1,1,1], padding = 'SAME')\n"
      ],
      "execution_count": 0,
      "outputs": []
    },
    {
      "cell_type": "code",
      "metadata": {
        "id": "PmZVXcSwK71X",
        "colab_type": "code",
        "colab": {}
      },
      "source": [
        "# Pooling\n",
        "\n",
        "def max_pool_2by2(x):\n",
        "  # x--> [batch,h,w,c]\n",
        "  return tf.nn.max_pool(x,ksize=[1,2,2,1], strides=[1,2,2,1],padding='SAME')"
      ],
      "execution_count": 0,
      "outputs": []
    },
    {
      "cell_type": "code",
      "metadata": {
        "id": "IhXsfRJsLdmE",
        "colab_type": "code",
        "colab": {}
      },
      "source": [
        "# Convulational layer\n",
        "\n",
        "def convolutional_layer(input_x, shape):\n",
        "  W = init_weights(shape)\n",
        "  b = init_bias([shape[3]])\n",
        "  return tf.nn.relu(conv2d(input_x,W)+b)"
      ],
      "execution_count": 0,
      "outputs": []
    },
    {
      "cell_type": "code",
      "metadata": {
        "id": "Dc_GR4UvLxgI",
        "colab_type": "code",
        "colab": {}
      },
      "source": [
        "# Normal (Fully Connected Layer)\n",
        "\n",
        "def normal_full_layer(input_layer, size):\n",
        "  input_size = int(input_layer.get_shape()[1])\n",
        "  W = init_weights([input_size, size])\n",
        "  b = init_bias([size])\n",
        "  return tf.matmul(input_layer,W)+b"
      ],
      "execution_count": 0,
      "outputs": []
    },
    {
      "cell_type": "code",
      "metadata": {
        "id": "E-d15z6jMZ1A",
        "colab_type": "code",
        "colab": {}
      },
      "source": [
        "# Placeholders\n",
        "x = tf.placeholder(tf.float32, shape=[None,784])"
      ],
      "execution_count": 0,
      "outputs": []
    },
    {
      "cell_type": "code",
      "metadata": {
        "id": "LULcccwoMoBQ",
        "colab_type": "code",
        "colab": {}
      },
      "source": [
        "y_true = tf.placeholder(tf.float32, shape=[None,10])"
      ],
      "execution_count": 0,
      "outputs": []
    },
    {
      "cell_type": "code",
      "metadata": {
        "id": "HGryWbYkMuGj",
        "colab_type": "code",
        "colab": {}
      },
      "source": [
        "# Layers\n",
        "x_image = tf.reshape(x,[-1,28,28,1])"
      ],
      "execution_count": 0,
      "outputs": []
    },
    {
      "cell_type": "code",
      "metadata": {
        "id": "xCO4ndRoM8Up",
        "colab_type": "code",
        "colab": {}
      },
      "source": [
        "convo_1 = convolutional_layer(x_image, shape=[5,5,1,32])\n",
        "convo_1_pooling = max_pool_2by2(convo_1)"
      ],
      "execution_count": 0,
      "outputs": []
    },
    {
      "cell_type": "code",
      "metadata": {
        "id": "2mn6WNNHEjt1",
        "colab_type": "code",
        "colab": {}
      },
      "source": [
        "convo_2 = convolutional_layer(convo_1_pooling, shape=[5,5,32,64])\n",
        "convo_2_pooling = max_pool_2by2(convo_2)"
      ],
      "execution_count": 0,
      "outputs": []
    },
    {
      "cell_type": "code",
      "metadata": {
        "id": "71mg43Z1L5N5",
        "colab_type": "code",
        "colab": {}
      },
      "source": [
        "convo_2_flat = tf.reshape(convo_2_pooling,[-1,7*7*64])\n",
        "full_layer_one = tf.nn.relu(normal_full_layer(convo_2_flat,1024))"
      ],
      "execution_count": 0,
      "outputs": []
    },
    {
      "cell_type": "code",
      "metadata": {
        "id": "xihqH3RqMOeY",
        "colab_type": "code",
        "colab": {
          "base_uri": "https://localhost:8080/",
          "height": 92
        },
        "outputId": "b7839e76-22cd-4924-b109-b4fbc596f616"
      },
      "source": [
        "# DROPOUT\n",
        "hold_prob = tf.placeholder(tf.float32)\n",
        "full_one_dropout = tf.nn.dropout(full_layer_one, keep_prob=hold_prob)"
      ],
      "execution_count": 18,
      "outputs": [
        {
          "output_type": "stream",
          "text": [
            "WARNING:tensorflow:From <ipython-input-18-9ba37e570df2>:2: calling dropout (from tensorflow.python.ops.nn_ops) with keep_prob is deprecated and will be removed in a future version.\n",
            "Instructions for updating:\n",
            "Please use `rate` instead of `keep_prob`. Rate should be set to `rate = 1 - keep_prob`.\n"
          ],
          "name": "stdout"
        }
      ]
    },
    {
      "cell_type": "code",
      "metadata": {
        "id": "y-gFHGc9MkjI",
        "colab_type": "code",
        "colab": {}
      },
      "source": [
        "y_pred = normal_full_layer(full_one_dropout,10)"
      ],
      "execution_count": 0,
      "outputs": []
    },
    {
      "cell_type": "code",
      "metadata": {
        "id": "jHIRFS3EMvEM",
        "colab_type": "code",
        "colab": {
          "base_uri": "https://localhost:8080/",
          "height": 182
        },
        "outputId": "7f7575ce-216e-4df7-9e24-8b66f7226a8c"
      },
      "source": [
        "# LOSS FUNCTION\n",
        "cross_entropy = tf.reduce_mean(tf.nn.softmax_cross_entropy_with_logits(labels=y_true,logits=y_pred))"
      ],
      "execution_count": 20,
      "outputs": [
        {
          "output_type": "stream",
          "text": [
            "WARNING:tensorflow:From <ipython-input-20-e0c07892321c>:1: softmax_cross_entropy_with_logits (from tensorflow.python.ops.nn_ops) is deprecated and will be removed in a future version.\n",
            "Instructions for updating:\n",
            "\n",
            "Future major versions of TensorFlow will allow gradients to flow\n",
            "into the labels input on backprop by default.\n",
            "\n",
            "See `tf.nn.softmax_cross_entropy_with_logits_v2`.\n",
            "\n"
          ],
          "name": "stdout"
        }
      ]
    },
    {
      "cell_type": "code",
      "metadata": {
        "id": "IU-8bR3aNKMO",
        "colab_type": "code",
        "colab": {}
      },
      "source": [
        "optimizer = tf.train.AdamOptimizer(learning_rate = 0.001)\n",
        "train = optimizer.minimize(cross_entropy)"
      ],
      "execution_count": 0,
      "outputs": []
    },
    {
      "cell_type": "code",
      "metadata": {
        "id": "0vcaQ9lhNabg",
        "colab_type": "code",
        "colab": {}
      },
      "source": [
        "init = tf.global_variables_initializer()"
      ],
      "execution_count": 0,
      "outputs": []
    },
    {
      "cell_type": "code",
      "metadata": {
        "id": "RXXcGpLkNdxK",
        "colab_type": "code",
        "colab": {
          "base_uri": "https://localhost:8080/",
          "height": 1000
        },
        "outputId": "c17c680b-7900-4cf4-f66a-e31c1f529022"
      },
      "source": [
        "steps = 5000\n",
        "\n",
        "with tf.Session() as sess:\n",
        "\n",
        "  sess.run(init)\n",
        "\n",
        "  for i in range(steps):\n",
        "\n",
        "    batch_x, batch_y = mnist.train.next_batch(50)\n",
        "\n",
        "    sess.run(train, feed_dict = {x:batch_x, y_true:batch_y, hold_prob:0.5})\n",
        "\n",
        "    if i%100 == 0:\n",
        "\n",
        "      print('ON STEP: {}.format(i)')\n",
        "      print('ACCURACY:')\n",
        "      matches = tf.equal(tf.argmax(y_pred,1), tf.argmax(y_true,1))\n",
        "\n",
        "      acc = tf.reduce_mean(tf.cast(matches, tf.float32))\n",
        "\n",
        "      print(sess.run(acc,feed_dict = {x: mnist.test.images, y_true:mnist.test.labels,hold_prob:1.0}))\n",
        "      print('\\n')"
      ],
      "execution_count": 23,
      "outputs": [
        {
          "output_type": "stream",
          "text": [
            "ON STEP: {}.format(i)\n",
            "ACCURACY:\n",
            "0.1436\n",
            "\n",
            "\n",
            "ON STEP: {}.format(i)\n",
            "ACCURACY:\n",
            "0.9457\n",
            "\n",
            "\n",
            "ON STEP: {}.format(i)\n",
            "ACCURACY:\n",
            "0.9592\n",
            "\n",
            "\n",
            "ON STEP: {}.format(i)\n",
            "ACCURACY:\n",
            "0.9707\n",
            "\n",
            "\n",
            "ON STEP: {}.format(i)\n",
            "ACCURACY:\n",
            "0.9726\n",
            "\n",
            "\n",
            "ON STEP: {}.format(i)\n",
            "ACCURACY:\n",
            "0.975\n",
            "\n",
            "\n",
            "ON STEP: {}.format(i)\n",
            "ACCURACY:\n",
            "0.9792\n",
            "\n",
            "\n",
            "ON STEP: {}.format(i)\n",
            "ACCURACY:\n",
            "0.9819\n",
            "\n",
            "\n",
            "ON STEP: {}.format(i)\n",
            "ACCURACY:\n",
            "0.9818\n",
            "\n",
            "\n",
            "ON STEP: {}.format(i)\n",
            "ACCURACY:\n",
            "0.9829\n",
            "\n",
            "\n",
            "ON STEP: {}.format(i)\n",
            "ACCURACY:\n",
            "0.9805\n",
            "\n",
            "\n",
            "ON STEP: {}.format(i)\n",
            "ACCURACY:\n",
            "0.9805\n",
            "\n",
            "\n",
            "ON STEP: {}.format(i)\n",
            "ACCURACY:\n",
            "0.9847\n",
            "\n",
            "\n",
            "ON STEP: {}.format(i)\n",
            "ACCURACY:\n",
            "0.9841\n",
            "\n",
            "\n",
            "ON STEP: {}.format(i)\n",
            "ACCURACY:\n",
            "0.9849\n",
            "\n",
            "\n",
            "ON STEP: {}.format(i)\n",
            "ACCURACY:\n",
            "0.9859\n",
            "\n",
            "\n",
            "ON STEP: {}.format(i)\n",
            "ACCURACY:\n",
            "0.9868\n",
            "\n",
            "\n",
            "ON STEP: {}.format(i)\n",
            "ACCURACY:\n",
            "0.9881\n",
            "\n",
            "\n",
            "ON STEP: {}.format(i)\n",
            "ACCURACY:\n",
            "0.9858\n",
            "\n",
            "\n",
            "ON STEP: {}.format(i)\n",
            "ACCURACY:\n",
            "0.9874\n",
            "\n",
            "\n",
            "ON STEP: {}.format(i)\n",
            "ACCURACY:\n",
            "0.9882\n",
            "\n",
            "\n",
            "ON STEP: {}.format(i)\n",
            "ACCURACY:\n",
            "0.9873\n",
            "\n",
            "\n",
            "ON STEP: {}.format(i)\n",
            "ACCURACY:\n",
            "0.9871\n",
            "\n",
            "\n",
            "ON STEP: {}.format(i)\n",
            "ACCURACY:\n",
            "0.9901\n",
            "\n",
            "\n",
            "ON STEP: {}.format(i)\n",
            "ACCURACY:\n",
            "0.9879\n",
            "\n",
            "\n",
            "ON STEP: {}.format(i)\n",
            "ACCURACY:\n",
            "0.9871\n",
            "\n",
            "\n",
            "ON STEP: {}.format(i)\n",
            "ACCURACY:\n",
            "0.9851\n",
            "\n",
            "\n",
            "ON STEP: {}.format(i)\n",
            "ACCURACY:\n",
            "0.9874\n",
            "\n",
            "\n",
            "ON STEP: {}.format(i)\n",
            "ACCURACY:\n",
            "0.989\n",
            "\n",
            "\n",
            "ON STEP: {}.format(i)\n",
            "ACCURACY:\n",
            "0.9877\n",
            "\n",
            "\n",
            "ON STEP: {}.format(i)\n",
            "ACCURACY:\n",
            "0.9856\n",
            "\n",
            "\n",
            "ON STEP: {}.format(i)\n",
            "ACCURACY:\n",
            "0.9871\n",
            "\n",
            "\n",
            "ON STEP: {}.format(i)\n",
            "ACCURACY:\n",
            "0.9869\n",
            "\n",
            "\n",
            "ON STEP: {}.format(i)\n",
            "ACCURACY:\n",
            "0.9888\n",
            "\n",
            "\n",
            "ON STEP: {}.format(i)\n",
            "ACCURACY:\n",
            "0.9909\n",
            "\n",
            "\n",
            "ON STEP: {}.format(i)\n",
            "ACCURACY:\n",
            "0.99\n",
            "\n",
            "\n",
            "ON STEP: {}.format(i)\n",
            "ACCURACY:\n",
            "0.9897\n",
            "\n",
            "\n",
            "ON STEP: {}.format(i)\n",
            "ACCURACY:\n",
            "0.9896\n",
            "\n",
            "\n",
            "ON STEP: {}.format(i)\n",
            "ACCURACY:\n",
            "0.9913\n",
            "\n",
            "\n",
            "ON STEP: {}.format(i)\n",
            "ACCURACY:\n",
            "0.9878\n",
            "\n",
            "\n",
            "ON STEP: {}.format(i)\n",
            "ACCURACY:\n",
            "0.9878\n",
            "\n",
            "\n",
            "ON STEP: {}.format(i)\n",
            "ACCURACY:\n",
            "0.9893\n",
            "\n",
            "\n",
            "ON STEP: {}.format(i)\n",
            "ACCURACY:\n",
            "0.9891\n",
            "\n",
            "\n",
            "ON STEP: {}.format(i)\n",
            "ACCURACY:\n",
            "0.9887\n",
            "\n",
            "\n",
            "ON STEP: {}.format(i)\n",
            "ACCURACY:\n",
            "0.986\n",
            "\n",
            "\n",
            "ON STEP: {}.format(i)\n",
            "ACCURACY:\n",
            "0.9898\n",
            "\n",
            "\n",
            "ON STEP: {}.format(i)\n",
            "ACCURACY:\n",
            "0.9905\n",
            "\n",
            "\n",
            "ON STEP: {}.format(i)\n",
            "ACCURACY:\n",
            "0.989\n",
            "\n",
            "\n",
            "ON STEP: {}.format(i)\n",
            "ACCURACY:\n",
            "0.9898\n",
            "\n",
            "\n",
            "ON STEP: {}.format(i)\n",
            "ACCURACY:\n",
            "0.9845\n",
            "\n",
            "\n"
          ],
          "name": "stdout"
        }
      ]
    },
    {
      "cell_type": "code",
      "metadata": {
        "id": "7V8rknrgN5lN",
        "colab_type": "code",
        "colab": {}
      },
      "source": [
        ""
      ],
      "execution_count": 0,
      "outputs": []
    }
  ]
}